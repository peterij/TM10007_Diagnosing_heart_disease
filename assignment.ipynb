{
  "nbformat": 4,
  "nbformat_minor": 0,
  "metadata": {
    "colab": {
      "provenance": [],
      "include_colab_link": true
    },
    "kernelspec": {
      "name": "python3",
      "display_name": "Python 3"
    },
    "language_info": {
      "name": "python"
    },
    "accelerator": "GPU",
    "gpuClass": "standard"
  },
  "cells": [
    {
      "cell_type": "markdown",
      "metadata": {
        "id": "view-in-github",
        "colab_type": "text"
      },
      "source": [
        "<a href=\"https://colab.research.google.com/github/peterij/TM10007_Diagnosing_heart_disease/blob/Peter/assignment.ipynb\" target=\"_parent\"><img src=\"https://colab.research.google.com/assets/colab-badge.svg\" alt=\"Open In Colab\"/></a>"
      ]
    },
    {
      "cell_type": "markdown",
      "source": [
        "**TM10007 Machine Learning**"
      ],
      "metadata": {
        "id": "JK6nCdvW-Cl0"
      }
    },
    {
      "cell_type": "code",
      "source": [
        "!git clone https://github.com/jveenland/tm10007_ml.git\n",
        "\n",
        "import zipfile\n",
        "import os\n",
        "import pandas as pd\n",
        "\n",
        "with zipfile.ZipFile('/content/tm10007_ml/ecg/ecg_data.zip', 'r') as zip_ref:\n",
        "    zip_ref.extractall('/content/tm10007_ml/ecg')\n",
        "\n",
        "data = pd.read_csv('/content/tm10007_ml/ecg/ecg_data.csv', index_col=0)\n",
        "\n",
        "print(f'The number of samples: {len(data.index)}')\n",
        "print(f'The number of columns: {len(data.columns)}')"
      ],
      "metadata": {
        "id": "aXDkHjQ1-fu9"
      },
      "execution_count": null,
      "outputs": []
    },
    {
      "cell_type": "code",
      "execution_count": null,
      "metadata": {
        "id": "ARhaYIKb9t6-"
      },
      "outputs": [],
      "source": [
        "# import function\n",
        "from sklearn import model_selection\n"
      ]
    },
    {
      "cell_type": "code",
      "source": [
        "data['label'].sum()"
      ],
      "metadata": {
        "id": "m6DVsdye4eaa"
      },
      "execution_count": null,
      "outputs": []
    },
    {
      "cell_type": "code",
      "source": [
        "## test test test test\n"
      ],
      "metadata": {
        "id": "zN2yvR9P6evW"
      },
      "execution_count": null,
      "outputs": []
    },
    {
      "cell_type": "code",
      "source": [
        "ECG_NON_NORMAL"
      ],
      "metadata": {
        "id": "FkON2JH36zKN"
      },
      "execution_count": null,
      "outputs": []
    },
    {
      "cell_type": "code",
      "source": [
        "\n",
        "\n",
        "\n",
        "\n",
        "\n",
        "x_train, x_test = model_selection.train_test_split(data, test_size=0.2)\n",
        "#print(x_train)\n",
        "\n",
        "\n",
        "\n",
        "\n",
        "\n",
        "print(f'The number of samples: {len(x_train.index)}')\n",
        "print(f'The number of columns: {len(x_train.columns)}')\n",
        "# Stratified split met vergelijkbare ratio \n"
      ],
      "metadata": {
        "id": "jdZl5eC13JmW"
      },
      "execution_count": null,
      "outputs": []
    }
  ]
}