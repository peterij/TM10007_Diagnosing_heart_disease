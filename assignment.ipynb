{
  "nbformat": 4,
  "nbformat_minor": 0,
  "metadata": {
    "colab": {
      "provenance": [],
      "include_colab_link": true
    },
    "kernelspec": {
      "name": "python3",
      "display_name": "Python 3"
    },
    "language_info": {
      "name": "python"
    },
    "accelerator": "GPU",
    "gpuClass": "standard"
  },
  "cells": [
    {
      "cell_type": "markdown",
      "metadata": {
        "id": "view-in-github",
        "colab_type": "text"
      },
      "source": [
        "<a href=\"https://colab.research.google.com/github/peterij/TM10007_Diagnosing_heart_disease/blob/master/assignment.ipynb\" target=\"_parent\"><img src=\"https://colab.research.google.com/assets/colab-badge.svg\" alt=\"Open In Colab\"/></a>"
      ]
    },
    {
      "cell_type": "markdown",
      "source": [
        "**TM10007 Machine Learning**"
      ],
      "metadata": {
        "id": "JK6nCdvW-Cl0"
      }
    },
    {
      "cell_type": "code",
      "source": [
        "!git clone https://github.com/jveenland/tm10007_ml.git\n",
        "\n",
        "import zipfile\n",
        "import os\n",
        "import pandas as pd\n",
        "\n",
        "with zipfile.ZipFile('/content/tm10007_ml/ecg/ecg_data.zip', 'r') as zip_ref:\n",
        "    zip_ref.extractall('/content/tm10007_ml/ecg')\n",
        "\n",
        "data = pd.read_csv('/content/tm10007_ml/ecg/ecg_data.csv', index_col=0)\n",
        "\n",
        "print(f'The number of samples: {len(data.index)}')\n",
        "print(f'The number of columns: {len(data.columns)}')"
      ],
      "metadata": {
        "id": "aXDkHjQ1-fu9",
        "colab": {
          "base_uri": "https://localhost:8080/"
        },
        "outputId": "d7e4504e-e21a-4cb2-bb77-dcda50f3acd4"
      },
      "execution_count": null,
      "outputs": [
        {
          "output_type": "stream",
          "name": "stdout",
          "text": [
            "Cloning into 'tm10007_ml'...\n",
            "remote: Enumerating objects: 83, done.\u001b[K\n",
            "remote: Counting objects: 100% (52/52), done.\u001b[K\n",
            "remote: Compressing objects: 100% (49/49), done.\u001b[K\n",
            "remote: Total 83 (delta 21), reused 5 (delta 3), pack-reused 31\u001b[K\n",
            "Unpacking objects: 100% (83/83), 67.93 MiB | 16.67 MiB/s, done.\n",
            "The number of samples: 827\n",
            "The number of columns: 9001\n"
          ]
        }
      ]
    },
    {
      "cell_type": "code",
      "execution_count": null,
      "metadata": {
        "id": "ARhaYIKb9t6-"
      },
      "outputs": [],
      "source": [
        "# import function\n",
        "from sklearn import model_selection\n"
      ]
    },
    {
      "cell_type": "code",
      "source": [
        "x_train, x_test = model_selection.train_test_split(data, test_size=0.2)\n",
        "print(x_train)\n",
        "print(f'The number of samples: {len(x_train.index)}')\n",
        "print(f'The number of columns: {len(x_train.columns)}')\n",
        "# Stratified split met vergelijkbare ratio "
      ],
      "metadata": {
        "colab": {
          "base_uri": "https://localhost:8080/"
        },
        "id": "jdZl5eC13JmW",
        "outputId": "6b2b7578-a655-4e69-c678-84852eebba1d"
      },
      "execution_count": null,
      "outputs": [
        {
          "output_type": "stream",
          "name": "stdout",
          "text": [
            "             0_0         0_1         0_2        0_3         0_4         0_5  \\\n",
            "438   771.743658  141.543694   82.458619   8.157553  145.127223   15.586516   \n",
            "143     2.840660   11.483642    7.498041  13.817329   29.397877   43.719667   \n",
            "214    47.372007   64.274683    4.086743  10.760164    5.721995   74.508284   \n",
            "694     6.407810    6.965022   16.757413   9.203876   23.715220  118.225029   \n",
            "468    10.063743   10.233886   10.508981  15.269568   22.035580   26.597833   \n",
            "..           ...         ...         ...        ...         ...         ...   \n",
            "372     0.621266   11.076148   10.845364   8.028119   12.892472   47.594526   \n",
            "402  5582.270668  273.300453  135.845365  93.299854   68.372794   57.533408   \n",
            "120     2.916626    3.609774    9.772167   6.267044   13.211785   39.802560   \n",
            "186     3.554768    0.413673    5.529902  11.764338   19.936010   34.142991   \n",
            "768     5.796578    4.667601    8.032874   6.104887   18.108585   16.557358   \n",
            "\n",
            "            0_6        0_7        0_8        0_9  ...    11_741    11_742  \\\n",
            "438   25.282645  21.612301  37.811877  43.919924  ...  0.097990  0.098589   \n",
            "143   17.266704  10.473122   7.022740   8.911388  ...  0.083676  0.116495   \n",
            "214  133.705863  58.652572  28.559524  22.001355  ...  0.307491  0.244086   \n",
            "694   26.149371  17.506394  13.438281  16.305761  ...  0.046475  0.063149   \n",
            "468   16.533765   3.174495  11.348604  30.962112  ...  0.264561  0.041721   \n",
            "..          ...        ...        ...        ...  ...       ...       ...   \n",
            "372   19.508645   2.348800   8.204317  11.934635  ...  0.127952  0.161446   \n",
            "402   61.038357  30.926143  29.235393  28.386265  ...  0.958874  1.159239   \n",
            "120   18.995668  10.613249   5.126589   7.498489  ...  0.089318  0.098021   \n",
            "186   31.813165   7.669111  22.219320  28.263005  ...  0.101791  0.113899   \n",
            "768  143.593370  13.459069   4.462612   4.856523  ...  0.065521  0.012795   \n",
            "\n",
            "       11_743    11_744    11_745    11_746    11_747    11_748    11_749  \\\n",
            "438  0.071970  0.133745  0.093234  0.071317  0.150517  0.127043  0.098859   \n",
            "143  0.172024  0.163303  0.070132  0.034172  0.128385  0.023144  0.123884   \n",
            "214  0.149832  0.299741  0.270478  0.247065  0.309450  0.199705  0.223982   \n",
            "694  0.087210  0.025162  0.092806  0.037518  0.028229  0.049396  0.047336   \n",
            "468  0.043609  0.295253  0.190318  0.269043  0.159889  0.365337  0.057888   \n",
            "..        ...       ...       ...       ...       ...       ...       ...   \n",
            "372  0.172854  0.017391  0.079128  0.081375  0.123614  0.069846  0.062873   \n",
            "402  1.023287  0.933646  1.020153  0.995373  0.997921  1.081263  1.028797   \n",
            "120  0.102458  0.084516  0.012881  0.066815  0.136926  0.113811  0.119060   \n",
            "186  0.168528  0.122201  0.130061  0.120451  0.137572  0.039966  0.135695   \n",
            "768  0.066024  0.071616  0.051606  0.049551  0.056233  0.054901  0.036769   \n",
            "\n",
            "     label  \n",
            "438      0  \n",
            "143      0  \n",
            "214      0  \n",
            "694      0  \n",
            "468      0  \n",
            "..     ...  \n",
            "372      0  \n",
            "402      0  \n",
            "120      1  \n",
            "186      0  \n",
            "768      0  \n",
            "\n",
            "[165 rows x 9001 columns]\n",
            "The number of samples: 165\n",
            "The number of columns: 9001\n"
          ]
        }
      ]
    }
  ]
}