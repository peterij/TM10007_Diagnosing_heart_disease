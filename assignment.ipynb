{
  "nbformat": 4,
  "nbformat_minor": 0,
  "metadata": {
    "colab": {
      "provenance": [],
      "include_colab_link": true
    },
    "kernelspec": {
      "name": "python3",
      "display_name": "Python 3"
    },
    "language_info": {
      "name": "python"
    },
    "accelerator": "GPU",
    "gpuClass": "standard"
  },
  "cells": [
    {
      "cell_type": "markdown",
      "metadata": {
        "id": "view-in-github",
        "colab_type": "text"
      },
      "source": [
        "<a href=\"https://colab.research.google.com/github/peterij/TM10007_Diagnosing_heart_disease/blob/Ingrid/assignment.ipynb\" target=\"_parent\"><img src=\"https://colab.research.google.com/assets/colab-badge.svg\" alt=\"Open In Colab\"/></a>"
      ]
    },
    {
      "cell_type": "markdown",
      "source": [
        "**TM10007 Machine Learning**"
      ],
      "metadata": {
        "id": "JK6nCdvW-Cl0"
      }
    },
    {
      "cell_type": "code",
      "source": [
        "!git clone https://github.com/jveenland/tm10007_ml.git\n",
        "\n",
        "import zipfile\n",
        "import os\n",
        "import pandas as pd\n",
        "import numpy as np\n",
        "\n",
        "with zipfile.ZipFile('/content/tm10007_ml/ecg/ecg_data.zip', 'r') as zip_ref:\n",
        "    zip_ref.extractall('/content/tm10007_ml/ecg')\n",
        "\n",
        "data = pd.read_csv('/content/tm10007_ml/ecg/ecg_data.csv', index_col=0)\n",
        "\n",
        "print(f'The number of samples: {len(data.index)}')\n",
        "print(f'The number of columns: {len(data.columns)}')"
      ],
      "metadata": {
        "id": "aXDkHjQ1-fu9"
      },
      "execution_count": null,
      "outputs": []
    },
    {
      "cell_type": "code",
      "execution_count": null,
      "metadata": {
        "id": "ARhaYIKb9t6-"
      },
      "outputs": [],
      "source": [
        "# import function\n",
        "from sklearn import model_selection\n"
      ]
    },
    {
      "cell_type": "code",
      "source": [
        "x_train, x_test = model_selection.train_test_split(data, test_size=0.2)\n",
        "\n",
        "ECG_ABNORMAL = data[data['label'] == 1]\n",
        "ECG_NORMAL = data[data['label'] == 0]\n",
        "\n",
        "x_train_abnormal, x_test_abnormal = model_selection.train_test_split(ECG_ABNORMAL, test_size=0.2)\n",
        "x_train_normal, x_test_normal = model_selection.train_test_split(ECG_NORMAL,test_size = 0.2)\n",
        "\n",
        "train_set = pd.concat([x_train_normal,x_train_abnormal])\n",
        "test_set = pd.concat([x_test_normal,x_test_abnormal])\n",
        "\n",
        "print(f'The size of train set is: {len(train_set)}')\n",
        "print(f'The size of test set is: {len(test_set)}')\n"
      ],
      "metadata": {
        "colab": {
          "base_uri": "https://localhost:8080/"
        },
        "id": "jdZl5eC13JmW",
        "outputId": "45ade0de-584c-4f7f-a42b-5fb77751badf"
      },
      "execution_count": 52,
      "outputs": [
        {
          "output_type": "stream",
          "name": "stdout",
          "text": [
            "The size of train set is: 660\n",
            "The size of test set is: 167\n"
          ]
        }
      ]
    },
    {
      "cell_type": "code",
      "source": [
        "from sklearn.feature_selection import SelectKBest, chi2\n",
        "\n",
        "# Extract the features and labels\n",
        "y = train_set['label']\n",
        "X = train_set.drop(['label'], axis=1)\n",
        "\n",
        "# Select the k best features using the chi-squared test\n",
        "selector = SelectKBest(chi2, k=10)\n",
        "X_new = selector.fit_transform(X, y)\n",
        "\n",
        "# Print the indices of the selected features\n",
        "print(f'The k best features are {selector.get_support(indices=True)}')\n",
        "scores = pd.DataFrame(selector.scores_)\n",
        "print(f'The scores for each of the k features are {scores}')\n",
        "\n",
        "threshold = scores.iloc[0]/100\n",
        "print(threshold)\n",
        "\n",
        "# scores_above_cut_off = scores[scores['value'] > threshold]\n",
        "# scores_above_cut_off = scores.mask(scores < threshold)\n",
        "value_k = len(scores_above_cut_off)\n"
      ],
      "metadata": {
        "id": "Ms-2RQ6RJ08q",
        "outputId": "14f97bce-0490-4a6f-e759-688d8dcf821b",
        "colab": {
          "base_uri": "https://localhost:8080/"
        }
      },
      "execution_count": 139,
      "outputs": [
        {
          "output_type": "stream",
          "name": "stdout",
          "text": [
            "The k best features are [1500 2250 3000 4509 4511 5258 5259 5260 6009 6010]\n",
            "The scores for each of the k features are                 0\n",
            "0     2709.752055\n",
            "1     1627.480939\n",
            "2      253.213174\n",
            "3      245.982348\n",
            "4       40.231840\n",
            "...           ...\n",
            "8995     1.159875\n",
            "8996     0.004236\n",
            "8997     0.015887\n",
            "8998     0.710201\n",
            "8999     0.141804\n",
            "\n",
            "[9000 rows x 1 columns]\n",
            "0    27.097521\n",
            "Name: 0, dtype: float64\n"
          ]
        }
      ]
    }
  ]
}