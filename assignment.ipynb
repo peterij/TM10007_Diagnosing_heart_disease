{
  "cells": [
    {
      "cell_type": "markdown",
      "metadata": {
        "id": "JK6nCdvW-Cl0"
      },
      "source": [
        "**TM10007 Machine Learning**"
      ]
    },
    {
      "cell_type": "markdown",
      "metadata": {
        "id": "op7Lf97ciGbk"
      },
      "source": [
        "## Import dependencies and data"
      ]
    },
    {
      "cell_type": "code",
      "execution_count": null,
      "metadata": {
        "id": "aXDkHjQ1-fu9"
      },
      "outputs": [],
      "source": [
        "import os\n",
        "import zipfile\n",
        "import pandas as pd\n",
        "import numpy as np\n",
        "import shutil\n",
        "import subprocess\n",
        "import shutil\n",
        "import os\n",
        "import stat\n",
        "import matplotlib.pyplot as plt\n",
        "import matplotlib.pyplot as plt\n",
        "import seaborn as sns\n",
        "from sklearn.decomposition import PCA\n",
        "from sklearn.preprocessing import StandardScaler\n",
        "from mpl_toolkits.mplot3d import Axes3D\n",
        "from os import path\n",
        "from sklearn import model_selection\n",
        "from sklearn.preprocessing import RobustScaler\n",
        "from sklearn.preprocessing import MinMaxScaler\n",
        "from sklearn.feature_selection import SelectKBest, chi2\n",
        "from sklearn.neighbors import KNeighborsClassifier\n",
        "from sklearn.discriminant_analysis import QuadraticDiscriminantAnalysis\n",
        "from sklearn.naive_bayes import GaussianNB\n",
        "from sklearn.svm import SVC\n",
        "from sklearn.decomposition import PCA, KernelPCA\n",
        "from sklearn.kernel_approximation import RBFSampler\n",
        "from sklearn.metrics.pairwise import rbf_kernel, sigmoid_kernel\n",
        "from sklearn.tree import DecisionTreeClassifier\n",
        "from sklearn.ensemble import RandomForestClassifier\n",
        "from sklearn.metrics import accuracy_score, precision_score, recall_score, f1_score, roc_auc_score, fbeta_score\n",
        "\n",
        "## if data.csv is not present download it from github\n",
        "if not os.path.isfile(\"ecg_data.csv\"):\n",
        "    ## clone repo from githun\n",
        "    if not os.path.isdir(\"tm10007_ml\"):\n",
        "        !git clone https://github.com/jveenland/tm10007_ml.git\n",
        "    ## extract zip file\n",
        "    if not os.path.isfile(\"tm10007_ml/ecg/ecg_data.csv\"):\n",
        "        with zipfile.ZipFile('tm10007_ml/ecg/ecg_data.zip', 'r') as zip_ref:\n",
        "            zip_ref.extractall('tm10007_ml/ecg')\n",
        "    ## move data file to root folder\n",
        "    shutil.move('tm10007_ml/ecg/ecg_data.csv', 'ecg_data.csv')\n",
        "\n",
        "    ## Delete cloned repo\n",
        "    for root, dirs, files in os.walk(\"./tm10007_ml\"):  \n",
        "        for dir in dirs:\n",
        "            os.chmod(path.join(root, dir), stat.S_IRWXU)\n",
        "        for file in files:\n",
        "            os.chmod(path.join(root, file), stat.S_IRWXU)\n",
        "    shutil.rmtree('./tm10007_ml')\n",
        "\n",
        "data = pd.read_csv('ecg_data.csv', index_col=0)"
      ]
    },
    {
      "cell_type": "markdown",
      "metadata": {
        "id": "Q2PngpnwVZp4"
      },
      "source": [
        "## Inspect imported data and clean missing data"
      ]
    },
    {
      "cell_type": "markdown",
      "metadata": {
        "id": "6OBlesnNVZp5"
      },
      "source": [
        "### Plot number of missing data per features and per patient"
      ]
    },
    {
      "cell_type": "code",
      "execution_count": null,
      "metadata": {
        "id": "LO8GPYyGVZp5"
      },
      "outputs": [],
      "source": [
        "# exclude label column\n",
        "values_features = data.drop(['label'], axis=1)\n",
        "\n",
        "# plot the distribution of missing data per feature\n",
        "num_zeros_features = (values_features == 0).sum(axis=0)\n",
        "plt.scatter(range(len(num_zeros_features)),num_zeros_features)\n",
        "plt.title(\"Distribution of number of missing data per feature\")\n",
        "plt.ylabel('Number of missing data')\n",
        "plt.xlabel('Feature')\n",
        "plt.show()\n",
        "\n",
        "# plot the distribution of missing data per patient\n",
        "num_zeros_patients=(values_features == 0).sum(axis=1)\n",
        "plt.scatter(range(len(num_zeros_patients)),num_zeros_patients)\n",
        "plt.title(\"Distribution of number of missing data per patient\")\n",
        "plt.ylabel('Number of missing data')\n",
        "plt.xlabel('Patient')\n",
        "plt.show()"
      ]
    },
    {
      "cell_type": "markdown",
      "metadata": {
        "id": "mKn8tj9NVZp5"
      },
      "source": [
        "### Delete rows with missing data"
      ]
    },
    {
      "cell_type": "code",
      "execution_count": null,
      "metadata": {
        "id": "KutNpZ5zVZp5"
      },
      "outputs": [],
      "source": [
        "values_data = data.drop(['label'], axis=1)\n",
        "mask = (values_data != 0).all(axis=1)\n",
        "clean_data=data[mask]\n",
        "dirty_data=data[~mask]"
      ]
    },
    {
      "cell_type": "markdown",
      "metadata": {
        "id": "vzvHjxpkVZp6"
      },
      "source": [
        "### Plot number of missing data per features and per patient after data cleanup"
      ]
    },
    {
      "cell_type": "code",
      "execution_count": null,
      "metadata": {
        "id": "v_q83MieVZp6"
      },
      "outputs": [],
      "source": [
        "# exclude label column\n",
        "values_clean_data = clean_data.drop(['label'], axis=1)\n",
        "# plot the distribution of missing data per feature\n",
        "num_zeros_features = (values_clean_data == 0).sum(axis=0)\n",
        "plt.scatter(range(len(num_zeros_features)),num_zeros_features)\n",
        "plt.title(\"Distribution of number of missing data per feature\")\n",
        "plt.ylabel('Number of missing data')\n",
        "plt.xlabel('Feature')\n",
        "plt.show()\n",
        "\n",
        "# plot the distribution of missing data per patient\n",
        "num_zeros_patients=(values_clean_data == 0).sum(axis=1)\n",
        "plt.scatter(range(len(num_zeros_patients)),num_zeros_patients)\n",
        "plt.title(\"Distribution of number of missing data per patient\")\n",
        "plt.ylabel('Number of missing data')\n",
        "plt.xlabel('Patient')\n",
        "plt.show()"
      ]
    },
    {
      "cell_type": "markdown",
      "metadata": {
        "id": "-YaBTRyHiGbl"
      },
      "source": [
        "## Split data into test and train data"
      ]
    },
    {
      "cell_type": "code",
      "execution_count": null,
      "metadata": {
        "id": "jdZl5eC13JmW"
      },
      "outputs": [],
      "source": [
        "ECG_ABNORMAL = data[data['label'] == 1]\n",
        "ECG_NORMAL = data[data['label'] == 0]\n",
        "\n",
        "x_train_abnormal, x_test_abnormal = model_selection.train_test_split(ECG_ABNORMAL, test_size=0.2, random_state=30)\n",
        "x_train_normal, x_test_normal = model_selection.train_test_split(ECG_NORMAL,test_size = 0.2,random_state=30)\n",
        "\n",
        "train_set = pd.concat([x_train_normal,x_train_abnormal])\n",
        "test_set = pd.concat([x_test_normal,x_test_abnormal])\n"
      ]
    },
    {
      "cell_type": "markdown",
      "metadata": {
        "id": "SNVPpduuiGbm"
      },
      "source": [
        "## Scale features of train and test set"
      ]
    },
    {
      "cell_type": "code",
      "source": [
        "# deal with outliers in the data\n",
        "transformer = RobustScaler().fit(train_set)\n",
        "train_set_robust = pd.DataFrame(transformer.transform(train_set))\n",
        "test_set_robust = pd.DataFrame(transformer.transform(test_set))\n",
        "\n",
        "# scaling the data between 0 and 1\n",
        "scaler = MinMaxScaler(feature_range=(0,1))\n",
        "# fit the scaler on the train set\n",
        "scaler.fit(train_set_robust)\n",
        "# transform both train and test data set with the scaler\n",
        "# rename the column names to the ones from 'data' again\n",
        "train_set_scaled = pd.DataFrame(scaler.transform(train_set))\n",
        "train_set_scaled.columns=data.columns.values\n",
        "test_set_scaled = pd.DataFrame(scaler.transform(test_set))\n",
        "test_set_scaled.columns=data.columns.values"
      ],
      "metadata": {
        "id": "jcZpODb4x8mI"
      },
      "execution_count": null,
      "outputs": []
    },
    {
      "cell_type": "code",
      "execution_count": null,
      "metadata": {
        "id": "c1FD3PV6iGbm"
      },
      "outputs": [],
      "source": [
        "# scaling the data\n",
        "scaler = MinMaxScaler(feature_range=(0, 1))\n",
        "# fit the scaler on the train set\n",
        "scaler.fit(train_set)\n",
        "# transform both train and test data set with the scaler\n",
        "# rename the column names to the ones from 'data' again\n",
        "train_set_scaled = pd.DataFrame(scaler.transform(train_set))\n",
        "train_set_scaled.columns=data.columns.values\n",
        "test_set_scaled = pd.DataFrame(scaler.transform(test_set))\n",
        "test_set_scaled.columns=data.columns.values"
      ]
    },
    {
      "cell_type": "code",
      "source": [
        "ecg_train_abnormal = train_set_scaled[train_set_scaled['label'] == 1]\n",
        "ecg_train_normal = train_set_scaled[train_set_scaled['label'] == 0]\n",
        "\n",
        "v_train_abnormal, v_val_abnormal = model_selection.train_test_split(ecg_train_abnormal, test_size=0.2, random_state=30)\n",
        "v_train_normal, v_val_normal = model_selection.train_test_split(ecg_train_normal,test_size = 0.2, random_state=30)\n",
        "\n",
        "train_set_scaled = pd.concat([v_train_normal,v_train_abnormal])\n",
        "validation_set = pd.concat([v_val_normal,v_val_abnormal])"
      ],
      "metadata": {
        "id": "3g9KVuAJy7LG"
      },
      "execution_count": null,
      "outputs": []
    },
    {
      "cell_type": "markdown",
      "metadata": {
        "id": "MeJXKo7l47wh"
      },
      "source": []
    },
    {
      "cell_type": "code",
      "execution_count": null,
      "metadata": {
        "id": "mGIBOvNF46Cr"
      },
      "outputs": [],
      "source": [
        "x = train_set_scaled.iloc[:, :-1].values\n",
        "y = train_set_scaled.iloc[:, -1].values\n",
        "\n",
        "pca = PCA(n_components=2)\n",
        "X_pca = pca.fit_transform(x)\n",
        "\n",
        "X_val = validation_set.iloc[:,:-1].values\n",
        "y_val = validation_set.iloc[:,-1].values\n",
        "X_val_pca = pca.transform(X_val)\n",
        "\n",
        "df_pca = pd.DataFrame(data=X_pca, columns=['PC1', 'PC2'])\n",
        "df_pca['Target'] = y\n",
        "\n",
        "sns.scatterplot(x='PC1', y='PC2', hue='Target', data=df_pca)\n",
        "plt.show()\n",
        "\n",
        "print(pca.explained_variance_ratio_)"
      ]
    },
    {
      "cell_type": "code",
      "source": [
        "# Colorplot\n",
        "def colorplot(clf, ax, x, y, h=100, precomputer=None):\n",
        "    '''\n",
        "    Overlay the decision areas as colors in an axes.\n",
        "    \n",
        "    Input:\n",
        "        clf: trained classifier\n",
        "        ax: axis to overlay color mesh on\n",
        "        x: feature on x-axis\n",
        "        y: feature on y-axis\n",
        "        h(optional): steps in the mesh\n",
        "    '''\n",
        "    # Create a meshgrid the size of the axis\n",
        "    xstep = (x.max() - x.min() ) / 20.0\n",
        "    ystep = (y.max() - y.min() ) / 20.0\n",
        "    x_min, x_max = x.min() - xstep, x.max() + xstep\n",
        "    y_min, y_max = y.min() - ystep, y.max() + ystep\n",
        "    h = max((x_max - x_min, y_max - y_min))/h\n",
        "    xx, yy = np.meshgrid(np.arange(x_min, x_max, h),\n",
        "                         np.arange(y_min, y_max, h))\n",
        "\n",
        "    features = np.c_[xx.ravel(), yy.ravel()]\n",
        "    if precomputer is not None:\n",
        "        if type(precomputer) is RBFSampler:\n",
        "            features = precomputer.transform(features)\n",
        "        elif precomputer is rbf_kernel:\n",
        "            features = rbf_kernel(features, X)\n",
        "            \n",
        "    # Plot the decision boundary. For that, we will assign a color to each\n",
        "    # point in the mesh [x_min, x_max]x[y_min, y_max].\n",
        "    if hasattr(clf, \"decision_function\"):\n",
        "        Z = clf.decision_function(features)\n",
        "    elif hasattr(clf, \"predict_proba\"):\n",
        "        Z = clf.predict_proba(features)\n",
        "    else:\n",
        "        Z = clf.predict(features)\n",
        "        \n",
        "    if len(Z.shape) > 1:\n",
        "        Z = Z[:, 1]\n",
        "    \n",
        "    # Put the result into a color plot\n",
        "    cm = plt.cm.RdBu_r\n",
        "    Z = Z.reshape(xx.shape)\n",
        "    ax.contourf(xx, yy, Z, cmap=cm, alpha=.8)\n",
        "    del xx, yy, x_min, x_max, y_min, y_max, Z, cm"
      ],
      "metadata": {
        "id": "gQve8qZsMnnm"
      },
      "execution_count": null,
      "outputs": []
    },
    {
      "cell_type": "code",
      "execution_count": null,
      "metadata": {
        "id": "GPP6vDwkYSaz"
      },
      "outputs": [],
      "source": [
        "# KNN classifier\n",
        "knn = KNeighborsClassifier()\n",
        "fig = plt.figure(figsize=(8,4))\n",
        "ax = fig.add_subplot()\n",
        "ax.scatter(X_pca[:, 0], X_pca[:, 1], marker='o', c=y,\n",
        "        s=25, edgecolor='k', cmap=plt.cm.Paired)\n",
        "knn.fit(X_pca,y)\n",
        "ax = fig.add_subplot()\n",
        "ax.scatter(X_pca[:,0],X_pca[:,1],marker='o',c=y,s=8,edgecolor='k',cmap=plt.cm.Paired)\n",
        "colorplot(knn, ax, X_pca[:,0], X_pca[:,1])\n",
        "y_pred = pd.DataFrame(knn.predict(X_val_pca))\n",
        "correct = pd.DataFrame(y_val)\n",
        "percentage = pd.DataFrame((correct != y_pred).sum() / len(y_pred))\n",
        "percentage_value = percentage.iloc[:,:].values\n",
        "float_percentage = 100-(float(percentage_value)*100)\n",
        "rounded_percentage = \"{:.2f}\".format(float_percentage)\n",
        "t = \"Correctly classified by KNN classifier: \" + rounded_percentage + \"%\"\n",
        "ax.set_title(t)\n",
        "\n",
        "# Compute the accuracy of the classifier\n",
        "accuracy = accuracy_score(correct, y_pred)\n",
        "print(f\"The accuracy of the classifier is {accuracy}\")\n",
        "\n",
        "# Compute the precision of the classifier\n",
        "precision = precision_score(correct, y_pred)\n",
        "print(f\"The precision of the classifier is {precision}\")\n",
        "\n",
        "# Compute the recall of the classifier\n",
        "recall = recall_score(correct, y_pred)\n",
        "print(f\"The recall of the classifier is {recall}\")\n",
        "\n",
        "# Compute the F1 score of the classifier\n",
        "f1 = f1_score(correct, y_pred)\n",
        "print(f\"The F1 score of the classifier is {f1}\")\n",
        "\n",
        "# Compute the weighted F1 score of the classifier\n",
        "fbeta = fbeta_score(correct, y_pred, beta=2)\n",
        "print(f\"The weighted F1 score of the classifier is {fbeta}\")"
      ]
    },
    {
      "cell_type": "code",
      "source": [
        "# Quadratic Discriminant Analysis\n",
        "qda = QuadraticDiscriminantAnalysis()\n",
        "fig = plt.figure(figsize=(8,4))\n",
        "ax = fig.add_subplot()\n",
        "ax.scatter(X_pca[:, 0], X_pca[:, 1], marker='o', c=y,\n",
        "        s=25, edgecolor='k', cmap=plt.cm.Paired)\n",
        "qda.fit(X_pca,y)\n",
        "ax = fig.add_subplot()\n",
        "ax.scatter(X_pca[:,0],X_pca[:,1],marker='o',c=y,s=8,edgecolor='k',cmap=plt.cm.Paired)\n",
        "colorplot(qda, ax, X_pca[:,0], X_pca[:,1])\n",
        "y_pred = pd.DataFrame(qda.predict(X_val_pca))\n",
        "correct = pd.DataFrame(y_val)\n",
        "percentage = pd.DataFrame((correct != y_pred).sum() / len(y_pred))\n",
        "percentage_value = percentage.iloc[:,:].values\n",
        "float_percentage = 100-(float(percentage_value)*100)\n",
        "rounded_percentage = \"{:.2f}\".format(float_percentage)\n",
        "t = \"Correctly classified by QDA classifier: \" + rounded_percentage + \"%\"\n",
        "ax.set_title(t)\n",
        "\n",
        "# Compute the accuracy of the classifier\n",
        "accuracy = accuracy_score(correct, y_pred)\n",
        "print(f\"The accuracy of the classifier is {accuracy}\")\n",
        "\n",
        "# Compute the precision of the classifier\n",
        "precision = precision_score(correct, y_pred)\n",
        "print(f\"The precision of the classifier is {precision}\")\n",
        "\n",
        "# Compute the recall of the classifier\n",
        "recall = recall_score(correct, y_pred)\n",
        "print(f\"The recall of the classifier is {recall}\")\n",
        "\n",
        "# Compute the F1 score of the classifier\n",
        "f1 = f1_score(correct, y_pred)\n",
        "print(f\"The F1 score of the classifier is {f1}\")\n",
        "\n",
        "# Compute the weighted F1 score of the classifier\n",
        "fbeta = fbeta_score(correct, y_pred, beta=2)\n",
        "print(f\"The weighted F1 score of the classifier is {fbeta}\")"
      ],
      "metadata": {
        "id": "fczV-tYpjTzH"
      },
      "execution_count": null,
      "outputs": []
    },
    {
      "cell_type": "code",
      "source": [
        "# Gaussian\n",
        "gauss = GaussianNB()\n",
        "fig = plt.figure(figsize=(8,4))\n",
        "ax = fig.add_subplot()\n",
        "ax.scatter(X_pca[:, 0], X_pca[:, 1], marker='o', c=y,\n",
        "        s=25, edgecolor='k', cmap=plt.cm.Paired)\n",
        "gauss.fit(X_pca,y)\n",
        "ax = fig.add_subplot()\n",
        "ax.scatter(X_pca[:,0],X_pca[:,1],marker='o',c=y,s=8,edgecolor='k',cmap=plt.cm.Paired)\n",
        "colorplot(gauss, ax, X_pca[:,0], X_pca[:,1])\n",
        "y_pred = pd.DataFrame(gauss.predict(X_val_pca))\n",
        "correct = pd.DataFrame(y_val)\n",
        "percentage = pd.DataFrame((correct != y_pred).sum() / len(y_pred))\n",
        "percentage_value = percentage.iloc[:,:].values\n",
        "float_percentage = 100-(float(percentage_value)*100)\n",
        "rounded_percentage = \"{:.2f}\".format(float_percentage)\n",
        "t = \"Correctly classified by Gaussian classifier: \" + rounded_percentage + \"%\"\n",
        "ax.set_title(t)\n",
        "\n",
        "# Compute the accuracy of the classifier\n",
        "accuracy = accuracy_score(correct, y_pred)\n",
        "print(f\"The accuracy of the classifier is {accuracy}\")\n",
        "\n",
        "# Compute the precision of the classifier\n",
        "precision = precision_score(correct, y_pred)\n",
        "print(f\"The precision of the classifier is {precision}\")\n",
        "\n",
        "# Compute the recall of the classifier\n",
        "recall = recall_score(correct, y_pred)\n",
        "print(f\"The recall of the classifier is {recall}\")\n",
        "\n",
        "# Compute the F1 score of the classifier\n",
        "f1 = f1_score(correct, y_pred)\n",
        "print(f\"The F1 score of the classifier is {f1}\")\n",
        "\n",
        "# Compute the weighted F1 score of the classifier\n",
        "fbeta = fbeta_score(correct, y_pred, beta=2)\n",
        "print(f\"The weighted F1 score of the classifier is {fbeta}\")"
      ],
      "metadata": {
        "id": "DdNmh5DXlChh"
      },
      "execution_count": null,
      "outputs": []
    },
    {
      "cell_type": "code",
      "source": [
        "# SVM RBF\n",
        "svmrbf = SVC(kernel='rbf', gamma='scale')\n",
        "fig = plt.figure(figsize=(8,4))\n",
        "ax = fig.add_subplot()\n",
        "ax.scatter(X_pca[:, 0], X_pca[:, 1], marker='o', c=y,\n",
        "        s=25, edgecolor='k', cmap=plt.cm.Paired)\n",
        "svmrbf.fit(X_pca,y)\n",
        "ax = fig.add_subplot()\n",
        "ax.scatter(X_pca[:,0],X_pca[:,1],marker='o',c=y,s=8,edgecolor='k',cmap=plt.cm.Paired)\n",
        "colorplot(svmrbf, ax, X_pca[:,0], X_pca[:,1])\n",
        "y_pred = pd.DataFrame(svmrbf.predict(X_val_pca))\n",
        "correct = pd.DataFrame(y_val)\n",
        "percentage = pd.DataFrame((correct != y_pred).sum() / len(y_pred))\n",
        "percentage_value = percentage.iloc[:,:].values\n",
        "float_percentage = 100-(float(percentage_value)*100)\n",
        "rounded_percentage = \"{:.2f}\".format(float_percentage)\n",
        "t = \"Correctly classified by SVM RBF classifier: \" + rounded_percentage + \"%\"\n",
        "ax.set_title(t)\n",
        "\n",
        "# Compute the accuracy of the classifier\n",
        "accuracy = accuracy_score(correct, y_pred)\n",
        "print(f\"The accuracy of the classifier is {accuracy}\")\n",
        "\n",
        "# Compute the precision of the classifier\n",
        "precision = precision_score(correct, y_pred)\n",
        "print(f\"The precision of the classifier is {precision}\")\n",
        "\n",
        "# Compute the recall of the classifier\n",
        "recall = recall_score(correct, y_pred)\n",
        "print(f\"The recall of the classifier is {recall}\")\n",
        "\n",
        "# Compute the F1 score of the classifier\n",
        "f1 = f1_score(correct, y_pred)\n",
        "print(f\"The F1 score of the classifier is {f1}\")\n",
        "\n",
        "# Compute the weighted F1 score of the classifier\n",
        "fbeta = fbeta_score(correct, y_pred, beta=2)\n",
        "print(f\"The weighted F1 score of the classifier is {fbeta}\")\n"
      ],
      "metadata": {
        "id": "wynTq7kWq3qu"
      },
      "execution_count": null,
      "outputs": []
    },
    {
      "cell_type": "code",
      "source": [
        "# SVM polynomial\n",
        "svmpoly = SVC(kernel='poly', degree=3, gamma='scale')\n",
        "fig = plt.figure(figsize=(8,4))\n",
        "ax = fig.add_subplot()\n",
        "ax.scatter(X_pca[:, 0], X_pca[:, 1], marker='o', c=y,\n",
        "        s=25, edgecolor='k', cmap=plt.cm.Paired)\n",
        "svmpoly.fit(X_pca,y)\n",
        "ax = fig.add_subplot()\n",
        "ax.scatter(X_pca[:,0],X_pca[:,1],marker='o',c=y,s=8,edgecolor='k',cmap=plt.cm.Paired)\n",
        "colorplot(svmpoly, ax, X_pca[:,0], X_pca[:,1])\n",
        "y_pred = pd.DataFrame(svmpoly.predict(X_val_pca))\n",
        "correct = pd.DataFrame(y_val)\n",
        "percentage = pd.DataFrame((correct != y_pred).sum() / len(y_pred))\n",
        "percentage_value = percentage.iloc[:,:].values\n",
        "float_percentage = 100-(float(percentage_value)*100)\n",
        "rounded_percentage = \"{:.2f}\".format(float_percentage)\n",
        "t = \"Correctly classified by SVM polynomial classifier: \" + rounded_percentage + \"%\"\n",
        "ax.set_title(t)\n",
        "\n",
        "# Compute the accuracy of the classifier\n",
        "accuracy = accuracy_score(correct, y_pred)\n",
        "print(f\"The accuracy of the classifier is {accuracy}\")\n",
        "\n",
        "# Compute the precision of the classifier\n",
        "precision = precision_score(correct, y_pred)\n",
        "print(f\"The precision of the classifier is {precision}\")\n",
        "\n",
        "# Compute the recall of the classifier\n",
        "recall = recall_score(correct, y_pred)\n",
        "print(f\"The recall of the classifier is {recall}\")\n",
        "\n",
        "# Compute the F1 score of the classifier\n",
        "f1 = f1_score(correct, y_pred)\n",
        "print(f\"The F1 score of the classifier is {f1}\")\n",
        "\n",
        "# Compute the weighted F1 score of the classifier\n",
        "fbeta = fbeta_score(correct, y_pred, beta=2)\n",
        "print(f\"The weighted F1 score of the classifier is {fbeta}\")"
      ],
      "metadata": {
        "id": "qXAoLxdQrfeg"
      },
      "execution_count": null,
      "outputs": []
    },
    {
      "cell_type": "code",
      "source": [
        "# Decision tree classifier\n",
        "decision_tree = DecisionTreeClassifier()\n",
        "fig = plt.figure(figsize=(8,4))\n",
        "ax = fig.add_subplot()\n",
        "ax.scatter(X_pca[:, 0], X_pca[:, 1], marker='o', c=y,\n",
        "        s=25, edgecolor='k', cmap=plt.cm.Paired)\n",
        "decision_tree.fit(X_pca,y)\n",
        "ax = fig.add_subplot()\n",
        "ax.scatter(X_pca[:,0],X_pca[:,1],marker='o',c=y,s=8,edgecolor='k',cmap=plt.cm.Paired)\n",
        "colorplot(decision_tree, ax, X_pca[:,0], X_pca[:,1])\n",
        "y_pred = pd.DataFrame(decision_tree.predict(X_val_pca))\n",
        "correct = pd.DataFrame(y_val)\n",
        "percentage = pd.DataFrame((correct != y_pred).sum() / len(y_pred))\n",
        "percentage_value = percentage.iloc[:,:].values\n",
        "float_percentage = 100-(float(percentage_value)*100)\n",
        "rounded_percentage = \"{:.2f}\".format(float_percentage)\n",
        "t = \"Correctly classified by decision tree classifier: \" + rounded_percentage + \"%\"\n",
        "ax.set_title(t)\n",
        "\n",
        "# Compute the accuracy of the classifier\n",
        "accuracy = accuracy_score(correct, y_pred)\n",
        "print(f\"The accuracy of the classifier is {accuracy}\")\n",
        "\n",
        "# Compute the precision of the classifier\n",
        "precision = precision_score(correct, y_pred)\n",
        "print(f\"The precision of the classifier is {precision}\")\n",
        "\n",
        "# Compute the recall of the classifier\n",
        "recall = recall_score(correct, y_pred)\n",
        "print(f\"The recall of the classifier is {recall}\")\n",
        "\n",
        "# Compute the F1 score of the classifier\n",
        "f1 = f1_score(correct, y_pred)\n",
        "print(f\"The F1 score of the classifier is {f1}\")\n",
        "\n",
        "# Compute the weighted F1 score of the classifier\n",
        "fbeta = fbeta_score(correct, y_pred, beta=2)\n",
        "print(f\"The weighted F1 score of the classifier is {fbeta}\")"
      ],
      "metadata": {
        "id": "jY9Zx-B1MKR8"
      },
      "execution_count": null,
      "outputs": []
    },
    {
      "cell_type": "code",
      "source": [
        "# Random forest classifier\n",
        "random_forest = RandomForestClassifier()\n",
        "fig = plt.figure(figsize=(8,4))\n",
        "ax = fig.add_subplot()\n",
        "ax.scatter(X_pca[:, 0], X_pca[:, 1], marker='o', c=y,\n",
        "        s=25, edgecolor='k', cmap=plt.cm.Paired)\n",
        "random_forest.fit(X_pca,y)\n",
        "ax = fig.add_subplot()\n",
        "ax.scatter(X_pca[:,0],X_pca[:,1],marker='o',c=y,s=8,edgecolor='k',cmap=plt.cm.Paired)\n",
        "colorplot(random_forest, ax, X_pca[:,0], X_pca[:,1])\n",
        "y_pred = pd.DataFrame(random_forest.predict(X_val_pca))\n",
        "correct = pd.DataFrame(y_val)\n",
        "percentage = pd.DataFrame((correct != y_pred).sum() / len(y_pred))\n",
        "percentage_value = percentage.iloc[:,:].values\n",
        "float_percentage = 100-(float(percentage_value)*100)\n",
        "rounded_percentage = \"{:.2f}\".format(float_percentage)\n",
        "t = \"Correctly classified by random forest classifier: \" + rounded_percentage + \"%\"\n",
        "ax.set_title(t)\n",
        "\n",
        "# Compute the accuracy of the classifier\n",
        "accuracy = accuracy_score(correct, y_pred)\n",
        "print(f\"The accuracy of the classifier is {accuracy}\")\n",
        "\n",
        "# Compute the precision of the classifier\n",
        "precision = precision_score(correct, y_pred)\n",
        "print(f\"The precision of the classifier is {precision}\")\n",
        "\n",
        "# Compute the recall of the classifier\n",
        "recall = recall_score(correct, y_pred)\n",
        "print(f\"The recall of the classifier is {recall}\")\n",
        "\n",
        "# Compute the F1 score of the classifier\n",
        "f1 = f1_score(correct, y_pred)\n",
        "print(f\"The F1 score of the classifier is {f1}\")\n",
        "\n",
        "# Compute the weighted F1 score of the classifier\n",
        "fbeta = fbeta_score(correct, y_pred, beta=2)\n",
        "print(f\"The weighted F1 score of the classifier is {fbeta}\")"
      ],
      "metadata": {
        "id": "DV6_52AOMMMf"
      },
      "execution_count": null,
      "outputs": []
    },
    {
      "cell_type": "code",
      "source": [],
      "metadata": {
        "id": "vIn7K1wEt5Kg"
      },
      "execution_count": null,
      "outputs": []
    }
  ],
  "metadata": {
    "accelerator": "GPU",
    "colab": {
      "provenance": []
    },
    "gpuClass": "standard",
    "kernelspec": {
      "display_name": "Python 3",
      "name": "python3"
    },
    "language_info": {
      "codemirror_mode": {
        "name": "ipython",
        "version": 3
      },
      "file_extension": ".py",
      "mimetype": "text/x-python",
      "name": "python",
      "nbconvert_exporter": "python",
      "pygments_lexer": "ipython3",
      "version": "3.10.9"
    }
  },
  "nbformat": 4,
  "nbformat_minor": 0
}